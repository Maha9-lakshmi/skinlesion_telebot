{
  "nbformat": 4,
  "nbformat_minor": 0,
  "metadata": {
    "colab": {
      "provenance": [],
      "gpuType": "T4",
      "authorship_tag": "ABX9TyOBOSBd/OguNd8cH8/0HoMB",
      "include_colab_link": true
    },
    "kernelspec": {
      "name": "python3",
      "display_name": "Python 3"
    },
    "language_info": {
      "name": "python"
    },
    "accelerator": "GPU"
  },
  "cells": [
    {
      "cell_type": "markdown",
      "metadata": {
        "id": "view-in-github",
        "colab_type": "text"
      },
      "source": [
        "<a href=\"https://colab.research.google.com/github/Maha9-lakshmi/skinlesion_telebot/blob/main/Skin_Lesion.ipynb\" target=\"_parent\"><img src=\"https://colab.research.google.com/assets/colab-badge.svg\" alt=\"Open In Colab\"/></a>"
      ]
    },
    {
      "cell_type": "code",
      "execution_count": null,
      "metadata": {
        "id": "DUxMNqWZoOAV",
        "colab": {
          "base_uri": "https://localhost:8080/"
        },
        "outputId": "8f215526-eee1-4db8-ecc0-240b0d5ac3b2"
      },
      "outputs": [
        {
          "output_type": "stream",
          "name": "stdout",
          "text": [
            "Requirement already satisfied: kaggle in /usr/local/lib/python3.10/dist-packages (1.5.16)\n",
            "Requirement already satisfied: six>=1.10 in /usr/local/lib/python3.10/dist-packages (from kaggle) (1.16.0)\n",
            "Requirement already satisfied: certifi in /usr/local/lib/python3.10/dist-packages (from kaggle) (2023.7.22)\n",
            "Requirement already satisfied: python-dateutil in /usr/local/lib/python3.10/dist-packages (from kaggle) (2.8.2)\n",
            "Requirement already satisfied: requests in /usr/local/lib/python3.10/dist-packages (from kaggle) (2.31.0)\n",
            "Requirement already satisfied: tqdm in /usr/local/lib/python3.10/dist-packages (from kaggle) (4.65.0)\n",
            "Requirement already satisfied: python-slugify in /usr/local/lib/python3.10/dist-packages (from kaggle) (8.0.1)\n",
            "Requirement already satisfied: urllib3 in /usr/local/lib/python3.10/dist-packages (from kaggle) (1.26.16)\n",
            "Requirement already satisfied: bleach in /usr/local/lib/python3.10/dist-packages (from kaggle) (6.0.0)\n",
            "Requirement already satisfied: webencodings in /usr/local/lib/python3.10/dist-packages (from bleach->kaggle) (0.5.1)\n",
            "Requirement already satisfied: text-unidecode>=1.3 in /usr/local/lib/python3.10/dist-packages (from python-slugify->kaggle) (1.3)\n",
            "Requirement already satisfied: charset-normalizer<4,>=2 in /usr/local/lib/python3.10/dist-packages (from requests->kaggle) (3.2.0)\n",
            "Requirement already satisfied: idna<4,>=2.5 in /usr/local/lib/python3.10/dist-packages (from requests->kaggle) (3.4)\n"
          ]
        }
      ],
      "source": [
        "!pip install kaggle"
      ]
    },
    {
      "cell_type": "code",
      "source": [
        "from google.colab import drive\n",
        "drive.mount('/content/drive')"
      ],
      "metadata": {
        "id": "Oqqu56hGoiTz",
        "colab": {
          "base_uri": "https://localhost:8080/"
        },
        "outputId": "82b04ed3-5ad9-4926-e268-4a455390d411"
      },
      "execution_count": null,
      "outputs": [
        {
          "output_type": "stream",
          "name": "stdout",
          "text": [
            "Mounted at /content/drive\n"
          ]
        }
      ]
    },
    {
      "cell_type": "markdown",
      "source": [
        "#Creating Token from kaggle and Upload in Colab"
      ],
      "metadata": {
        "id": "t0nbhvI8GA1G"
      }
    },
    {
      "cell_type": "code",
      "source": [
        "!mkdir ~/.kaggle"
      ],
      "metadata": {
        "id": "coOauJJCpi6G"
      },
      "execution_count": null,
      "outputs": []
    },
    {
      "cell_type": "code",
      "source": [
        "!cp /content/kaggle.json ~/.kaggle/"
      ],
      "metadata": {
        "id": "gVdQOCcSqEQu"
      },
      "execution_count": null,
      "outputs": []
    },
    {
      "cell_type": "code",
      "source": [
        "! chmod 600 ~/.kaggle/kaggle.json"
      ],
      "metadata": {
        "id": "QGrWAV84qhWd"
      },
      "execution_count": null,
      "outputs": []
    },
    {
      "cell_type": "markdown",
      "source": [
        "#Downloading the dataset from kaggle"
      ],
      "metadata": {
        "id": "PjEji7D7F4df"
      }
    },
    {
      "cell_type": "code",
      "source": [
        "!kaggle datasets download -d dipuiucse/monkeypoxskinimagedataset"
      ],
      "metadata": {
        "id": "HiQU4ic_-CDE",
        "colab": {
          "base_uri": "https://localhost:8080/"
        },
        "outputId": "3a879622-8de6-4e69-9687-18c2e049142d"
      },
      "execution_count": null,
      "outputs": [
        {
          "output_type": "stream",
          "name": "stdout",
          "text": [
            "Downloading monkeypoxskinimagedataset.zip to /content\n",
            "100% 54.0M/54.1M [00:01<00:00, 65.7MB/s]\n",
            "100% 54.1M/54.1M [00:01<00:00, 53.6MB/s]\n"
          ]
        }
      ]
    },
    {
      "cell_type": "code",
      "source": [
        "!unzip -q monkeypoxskinimagedataset.zip -d monkeypox"
      ],
      "metadata": {
        "id": "JstlI3XACmmm"
      },
      "execution_count": null,
      "outputs": []
    },
    {
      "cell_type": "code",
      "source": [
        "!ls monkeypox"
      ],
      "metadata": {
        "colab": {
          "base_uri": "https://localhost:8080/"
        },
        "id": "y7marPuMC1JG",
        "outputId": "774cfb04-fbbf-4ed8-ee97-5934505ef80e"
      },
      "execution_count": null,
      "outputs": [
        {
          "output_type": "stream",
          "name": "stdout",
          "text": [
            "'Monkeypox Skin Image Dataset'\n"
          ]
        }
      ]
    },
    {
      "cell_type": "markdown",
      "source": [
        "#Model building with MobileNetV2 and Preprocessing"
      ],
      "metadata": {
        "id": "CzBFA7rhFuiP"
      }
    },
    {
      "cell_type": "code",
      "source": [
        "import numpy as np\n",
        "import os\n",
        "import cv2\n",
        "from sklearn.model_selection import train_test_split\n",
        "from keras.utils import to_categorical\n",
        "from keras.models import Sequential, Model\n",
        "from keras.layers import Conv2D, MaxPooling2D, Flatten, Dense, Dropout, GlobalAveragePooling2D\n",
        "from keras.optimizers import Adam\n",
        "from keras.applications import MobileNetV2\n",
        "from keras.preprocessing.image import ImageDataGenerator\n",
        "\n",
        "# Path to the dataset directory (each class should have its own subdirectory)\n",
        "dataset_dir = '/content/monkeypox/Monkeypox Skin Image Dataset'\n",
        "\n",
        "# Define the classes (folder names in the dataset directory)\n",
        "classes = ['Chickenpox', 'Measles', 'Monkeypox', 'Normal']\n",
        "\n",
        "# Function to load and preprocess the data\n",
        "def load_data():\n",
        "    data = []\n",
        "    labels = []\n",
        "    for class_id, class_name in enumerate(classes):\n",
        "        class_dir = os.path.join(dataset_dir, class_name)\n",
        "        for img_file in os.listdir(class_dir):\n",
        "            img_path = os.path.join(class_dir, img_file)\n",
        "            img = cv2.imread(img_path)\n",
        "            img = cv2.resize(img, (224, 224))  # Resize images to a fixed size\n",
        "            data.append(img)\n",
        "            labels.append(class_id)\n",
        "\n",
        "    data = np.array(data, dtype='float32') / 255.0  # Normalize pixel values to [0, 1]\n",
        "    labels = np.array(labels)\n",
        "    return data, labels\n",
        "\n",
        "# Load the data\n",
        "X, y = load_data()\n",
        "\n",
        "# Convert labels to one-hot encoded vectors\n",
        "y = to_categorical(y, num_classes=len(classes))\n",
        "\n",
        "# Split the data into training and testing sets\n",
        "X_train, X_test, y_train, y_test = train_test_split(X, y, test_size=0.2, random_state=42)\n",
        "\n",
        "# Data augmentation\n",
        "datagen = ImageDataGenerator(\n",
        "    rotation_range=20,\n",
        "    width_shift_range=0.2,\n",
        "    height_shift_range=0.2,\n",
        "    shear_range=0.2,\n",
        "    zoom_range=0.2,\n",
        "    horizontal_flip=True,\n",
        "    fill_mode='nearest'\n",
        ")\n",
        "datagen.fit(X_train)\n",
        "\n",
        "# Transfer learning with MobileNetV2\n",
        "base_model = MobileNetV2(weights='imagenet', include_top=False, input_shape=(224, 224, 3))\n",
        "\n",
        "# Add custom head for classification\n",
        "x = base_model.output\n",
        "x = GlobalAveragePooling2D()(x)\n",
        "x = Dense(256, activation='relu')(x)\n",
        "x = Dropout(0.5)(x)\n",
        "predictions = Dense(len(classes), activation='softmax')(x)\n",
        "\n",
        "model = Model(inputs=base_model.input, outputs=predictions)\n",
        "\n",
        "# Freeze the base model layers for transfer learning\n",
        "for layer in base_model.layers:\n",
        "    layer.trainable = False\n",
        "\n",
        "# Compile the model\n",
        "model.compile(optimizer=Adam(learning_rate=0.001), loss='categorical_crossentropy', metrics=['accuracy'])\n",
        "\n",
        "# Train the model with fine-tuning\n",
        "epochs = 35\n",
        "steps_per_epoch = len(X_train) // 32\n",
        "validation_steps = len(X_test) // 32\n",
        "\n",
        "model.fit(datagen.flow(X_train, y_train, batch_size=32), epochs=epochs, steps_per_epoch=steps_per_epoch,\n",
        "          validation_data=(X_test, y_test), validation_steps=validation_steps)\n",
        "\n",
        "# Save the trained model\n",
        "model.save('monkeypox_classification_model.h5')\n"
      ],
      "metadata": {
        "id": "JNQ-gCDGcLQT",
        "colab": {
          "base_uri": "https://localhost:8080/"
        },
        "outputId": "60aed68d-6101-4cd4-9243-ad16808aa06a"
      },
      "execution_count": null,
      "outputs": [
        {
          "output_type": "stream",
          "name": "stdout",
          "text": [
            "Downloading data from https://storage.googleapis.com/tensorflow/keras-applications/mobilenet_v2/mobilenet_v2_weights_tf_dim_ordering_tf_kernels_1.0_224_no_top.h5\n",
            "9406464/9406464 [==============================] - 0s 0us/step\n",
            "Epoch 1/35\n",
            "19/19 [==============================] - 19s 456ms/step - loss: 1.0569 - accuracy: 0.6336 - val_loss: 0.5551 - val_accuracy: 0.7922\n",
            "Epoch 2/35\n",
            "19/19 [==============================] - 6s 324ms/step - loss: 0.6645 - accuracy: 0.7568 - val_loss: 0.5652 - val_accuracy: 0.7727\n",
            "Epoch 3/35\n",
            "19/19 [==============================] - 8s 460ms/step - loss: 0.5331 - accuracy: 0.7928 - val_loss: 0.4421 - val_accuracy: 0.8312\n",
            "Epoch 4/35\n",
            "19/19 [==============================] - 7s 357ms/step - loss: 0.4325 - accuracy: 0.8579 - val_loss: 0.4349 - val_accuracy: 0.8442\n",
            "Epoch 5/35\n",
            "19/19 [==============================] - 6s 327ms/step - loss: 0.4073 - accuracy: 0.8510 - val_loss: 0.4512 - val_accuracy: 0.8506\n",
            "Epoch 6/35\n",
            "19/19 [==============================] - 7s 386ms/step - loss: 0.3581 - accuracy: 0.8699 - val_loss: 0.4295 - val_accuracy: 0.8312\n",
            "Epoch 7/35\n",
            "19/19 [==============================] - 7s 392ms/step - loss: 0.3827 - accuracy: 0.8699 - val_loss: 0.4057 - val_accuracy: 0.8312\n",
            "Epoch 8/35\n",
            "19/19 [==============================] - 7s 374ms/step - loss: 0.2915 - accuracy: 0.8938 - val_loss: 0.4257 - val_accuracy: 0.8312\n",
            "Epoch 9/35\n",
            "19/19 [==============================] - 6s 326ms/step - loss: 0.2788 - accuracy: 0.9007 - val_loss: 0.3962 - val_accuracy: 0.8701\n",
            "Epoch 10/35\n",
            "19/19 [==============================] - 7s 390ms/step - loss: 0.3083 - accuracy: 0.8921 - val_loss: 0.4144 - val_accuracy: 0.8312\n",
            "Epoch 11/35\n",
            "19/19 [==============================] - 6s 329ms/step - loss: 0.3221 - accuracy: 0.8750 - val_loss: 0.3455 - val_accuracy: 0.8571\n",
            "Epoch 12/35\n",
            "19/19 [==============================] - 7s 354ms/step - loss: 0.2570 - accuracy: 0.9058 - val_loss: 0.3739 - val_accuracy: 0.8506\n",
            "Epoch 13/35\n",
            "19/19 [==============================] - 7s 385ms/step - loss: 0.2754 - accuracy: 0.8955 - val_loss: 0.3943 - val_accuracy: 0.8571\n",
            "Epoch 14/35\n",
            "19/19 [==============================] - 7s 386ms/step - loss: 0.2606 - accuracy: 0.9092 - val_loss: 0.3634 - val_accuracy: 0.8571\n",
            "Epoch 15/35\n",
            "19/19 [==============================] - 6s 327ms/step - loss: 0.2350 - accuracy: 0.9195 - val_loss: 0.3550 - val_accuracy: 0.8377\n",
            "Epoch 16/35\n",
            "19/19 [==============================] - 6s 327ms/step - loss: 0.2535 - accuracy: 0.9110 - val_loss: 0.3808 - val_accuracy: 0.8506\n",
            "Epoch 17/35\n",
            "19/19 [==============================] - 7s 383ms/step - loss: 0.1991 - accuracy: 0.9281 - val_loss: 0.4153 - val_accuracy: 0.8312\n",
            "Epoch 18/35\n",
            "19/19 [==============================] - 6s 327ms/step - loss: 0.1715 - accuracy: 0.9366 - val_loss: 0.4305 - val_accuracy: 0.8182\n",
            "Epoch 19/35\n",
            "19/19 [==============================] - 6s 324ms/step - loss: 0.1692 - accuracy: 0.9452 - val_loss: 0.3852 - val_accuracy: 0.8506\n",
            "Epoch 20/35\n",
            "19/19 [==============================] - 7s 381ms/step - loss: 0.1705 - accuracy: 0.9281 - val_loss: 0.3625 - val_accuracy: 0.8442\n",
            "Epoch 21/35\n",
            "19/19 [==============================] - 6s 330ms/step - loss: 0.1595 - accuracy: 0.9418 - val_loss: 0.3293 - val_accuracy: 0.8636\n",
            "Epoch 22/35\n",
            "19/19 [==============================] - 6s 324ms/step - loss: 0.1638 - accuracy: 0.9349 - val_loss: 0.3799 - val_accuracy: 0.8506\n",
            "Epoch 23/35\n",
            "19/19 [==============================] - 7s 388ms/step - loss: 0.1473 - accuracy: 0.9538 - val_loss: 0.3726 - val_accuracy: 0.8571\n",
            "Epoch 24/35\n",
            "19/19 [==============================] - 7s 354ms/step - loss: 0.1684 - accuracy: 0.9315 - val_loss: 0.3748 - val_accuracy: 0.8571\n",
            "Epoch 25/35\n",
            "19/19 [==============================] - 7s 330ms/step - loss: 0.1731 - accuracy: 0.9384 - val_loss: 0.3582 - val_accuracy: 0.8506\n",
            "Epoch 26/35\n",
            "19/19 [==============================] - 7s 378ms/step - loss: 0.1589 - accuracy: 0.9384 - val_loss: 0.4554 - val_accuracy: 0.8312\n",
            "Epoch 27/35\n",
            "19/19 [==============================] - 6s 325ms/step - loss: 0.1466 - accuracy: 0.9469 - val_loss: 0.3701 - val_accuracy: 0.8571\n",
            "Epoch 28/35\n",
            "19/19 [==============================] - 6s 326ms/step - loss: 0.1431 - accuracy: 0.9555 - val_loss: 0.3178 - val_accuracy: 0.8896\n",
            "Epoch 29/35\n",
            "19/19 [==============================] - 7s 383ms/step - loss: 0.1320 - accuracy: 0.9521 - val_loss: 0.4365 - val_accuracy: 0.8506\n",
            "Epoch 30/35\n",
            "19/19 [==============================] - 6s 322ms/step - loss: 0.1503 - accuracy: 0.9401 - val_loss: 0.4012 - val_accuracy: 0.8506\n",
            "Epoch 31/35\n",
            "19/19 [==============================] - 6s 323ms/step - loss: 0.1270 - accuracy: 0.9589 - val_loss: 0.3937 - val_accuracy: 0.8506\n",
            "Epoch 32/35\n",
            "19/19 [==============================] - 7s 379ms/step - loss: 0.1449 - accuracy: 0.9452 - val_loss: 0.3696 - val_accuracy: 0.8571\n",
            "Epoch 33/35\n",
            "19/19 [==============================] - 7s 380ms/step - loss: 0.1540 - accuracy: 0.9486 - val_loss: 0.3772 - val_accuracy: 0.8506\n",
            "Epoch 34/35\n",
            "19/19 [==============================] - 6s 321ms/step - loss: 0.1339 - accuracy: 0.9538 - val_loss: 0.3955 - val_accuracy: 0.8312\n",
            "Epoch 35/35\n",
            "19/19 [==============================] - 6s 325ms/step - loss: 0.1417 - accuracy: 0.9435 - val_loss: 0.3660 - val_accuracy: 0.8636\n"
          ]
        }
      ]
    },
    {
      "cell_type": "markdown",
      "source": [
        "# Telebot Integration"
      ],
      "metadata": {
        "id": "jTOGUreVFmB-"
      }
    },
    {
      "cell_type": "code",
      "source": [
        "!pip install opencv-python-headless\n",
        "!pip install keras\n",
        "!pip install pyTelegramBotAPI"
      ],
      "metadata": {
        "id": "StobqneMIesS",
        "colab": {
          "base_uri": "https://localhost:8080/"
        },
        "outputId": "04523223-ee26-4e5e-9473-8adfef0616ff"
      },
      "execution_count": null,
      "outputs": [
        {
          "output_type": "stream",
          "name": "stdout",
          "text": [
            "Requirement already satisfied: opencv-python-headless in /usr/local/lib/python3.10/dist-packages (4.8.0.74)\n",
            "Requirement already satisfied: numpy>=1.21.2 in /usr/local/lib/python3.10/dist-packages (from opencv-python-headless) (1.23.5)\n",
            "Requirement already satisfied: keras in /usr/local/lib/python3.10/dist-packages (2.12.0)\n",
            "Collecting pyTelegramBotAPI\n",
            "  Downloading pyTelegramBotAPI-4.12.0.tar.gz (232 kB)\n",
            "\u001b[2K     \u001b[90m━━━━━━━━━━━━━━━━━━━━━━━━━━━━━━━━━━━━━━━\u001b[0m \u001b[32m232.0/232.0 kB\u001b[0m \u001b[31m4.6 MB/s\u001b[0m eta \u001b[36m0:00:00\u001b[0m\n",
            "\u001b[?25h  Preparing metadata (setup.py) ... \u001b[?25l\u001b[?25hdone\n",
            "Requirement already satisfied: requests in /usr/local/lib/python3.10/dist-packages (from pyTelegramBotAPI) (2.31.0)\n",
            "Requirement already satisfied: charset-normalizer<4,>=2 in /usr/local/lib/python3.10/dist-packages (from requests->pyTelegramBotAPI) (3.2.0)\n",
            "Requirement already satisfied: idna<4,>=2.5 in /usr/local/lib/python3.10/dist-packages (from requests->pyTelegramBotAPI) (3.4)\n",
            "Requirement already satisfied: urllib3<3,>=1.21.1 in /usr/local/lib/python3.10/dist-packages (from requests->pyTelegramBotAPI) (1.26.16)\n",
            "Requirement already satisfied: certifi>=2017.4.17 in /usr/local/lib/python3.10/dist-packages (from requests->pyTelegramBotAPI) (2023.7.22)\n",
            "Building wheels for collected packages: pyTelegramBotAPI\n",
            "  Building wheel for pyTelegramBotAPI (setup.py) ... \u001b[?25l\u001b[?25hdone\n",
            "  Created wheel for pyTelegramBotAPI: filename=pyTelegramBotAPI-4.12.0-py3-none-any.whl size=213954 sha256=24ef6ebf2748ed1d3e98cc8e9fa9cbb7af749dba51db4236059cd8f1679532cd\n",
            "  Stored in directory: /root/.cache/pip/wheels/7e/ba/82/f3ab5bc48525778633bccc741c0424677ed3435736221819f4\n",
            "Successfully built pyTelegramBotAPI\n",
            "Installing collected packages: pyTelegramBotAPI\n",
            "Successfully installed pyTelegramBotAPI-4.12.0\n"
          ]
        }
      ]
    },
    {
      "cell_type": "code",
      "source": [
        "import numpy as np\n",
        "import os\n",
        "import cv2\n",
        "import telebot\n",
        "from keras.models import load_model\n",
        "from keras.preprocessing import image\n",
        "from io import BytesIO\n",
        "\n",
        "# Initialize Telegram Bot\n",
        "bot_token = \"6333386994:AAHRSqoaTQEtjhJZhhWGs7S6WP6i99-zByI\"\n",
        "bot = telebot.TeleBot(bot_token)\n",
        "\n",
        "# Path to the trained model\n",
        "model_path = 'monkeypox_classification_model.h5'\n",
        "model = load_model(model_path)\n",
        "\n",
        "# Define class labels\n",
        "classes = ['Chickenpox', 'Measles', 'Monkeypox', 'Normal']\n",
        "\n",
        "# Function to preprocess the image and make a prediction\n",
        "def preprocess_image(image_data):\n",
        "    img = cv2.imdecode(np.frombuffer(image_data, np.uint8), cv2.IMREAD_COLOR)\n",
        "    img = cv2.cvtColor(img, cv2.COLOR_BGR2RGB)\n",
        "    img = cv2.resize(img, (224, 224))\n",
        "    img = img.astype('float32') / 255.0\n",
        "    return img\n",
        "\n",
        "def classify_image(image_data):\n",
        "    img = preprocess_image(image_data)\n",
        "    img = np.expand_dims(img, axis=0)\n",
        "    prediction = model.predict(img)\n",
        "    predicted_class_idx = np.argmax(prediction)\n",
        "    predicted_class = classes[predicted_class_idx]\n",
        "    confidence = prediction[0][predicted_class_idx] * 100\n",
        "    return predicted_class, confidence\n",
        "\n",
        "# Telegram bot message handler for images sent as file attachments\n",
        "@bot.message_handler(content_types=['photo'])\n",
        "def handle_image(message):\n",
        "    try:\n",
        "        # Get the file ID of the largest photo (last element)\n",
        "        file_id = message.photo[-1].file_id\n",
        "        # Download the image\n",
        "        file_info = bot.get_file(file_id)\n",
        "        image_data = bot.download_file(file_info.file_path)\n",
        "        # Process the image and make a prediction\n",
        "        predicted_class, confidence = classify_image(image_data)\n",
        "        # Send the prediction back to the user\n",
        "        response = f\"Prediction: {predicted_class}\\nConfidence: {confidence:.2f}%\"\n",
        "        bot.reply_to(message, response)\n",
        "    except Exception as e:\n",
        "        bot.reply_to(message, f\"Error: {str(e)}\")\n",
        "\n",
        "# Telegram bot command handler\n",
        "@bot.message_handler(commands=['start', 'help'])\n",
        "def handle_start_help(message):\n",
        "    bot.reply_to(message, \"Send me an image to classify using the /classify command.\")\n",
        "\n",
        "# Start the bot\n",
        "print(\"Bot is running...\")\n",
        "bot.polling()"
      ],
      "metadata": {
        "colab": {
          "base_uri": "https://localhost:8080/"
        },
        "id": "c2yWC4a6UBEb",
        "outputId": "eb1cc8c6-6dbd-42af-ea54-8328f3a4b405"
      },
      "execution_count": null,
      "outputs": [
        {
          "output_type": "stream",
          "name": "stdout",
          "text": [
            "Bot is running...\n",
            "1/1 [==============================] - 1s 704ms/step\n",
            "1/1 [==============================] - 0s 24ms/step\n",
            "1/1 [==============================] - 0s 22ms/step\n",
            "1/1 [==============================] - 0s 22ms/step\n"
          ]
        }
      ]
    }
  ]
}